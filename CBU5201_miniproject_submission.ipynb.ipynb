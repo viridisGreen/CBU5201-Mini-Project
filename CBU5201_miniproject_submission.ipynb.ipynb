{
 "metadata": {
  "colab": {
   "provenance": []
  },
  "kernelspec": {
   "name": "rik_ssh_whs_10_112_0_14_remotepython",
   "language": "",
   "display_name": "SSH whs@10.112.0.14 Remote Python"
  },
  "language_info": {
   "codemirror_mode": {
    "name": "python",
    "version": 3
   },
   "file_extension": ".py",
   "mimetype": "text/x-python",
   "name": "python",
   "nbconvert_exporter": "python",
   "pygments_lexer": "ipython3",
   "version": "3.8"
  }
 },
 "nbformat_minor": 4,
 "nbformat": 4,
 "cells": [
  {
   "cell_type": "markdown",
   "source": [
    "# CBU5201 mini-project submission\n",
    "\n",
    "The mini-project has two separate components:\n",
    "\n",
    "\n",
    "1.   **Basic component** [6 marks]: Using the genki4k dataset, build a machine learning pipeline that takes as an input an image and predicts 1) whether the person in the image is similing or not 2) estimate the 3D head pose labels in the image.\n",
    "2.   **Advanced component** [10 marks]: Formulate your own machine learning problem and build a machine learning solution using the genki4k dataset (https://inc.ucsd.edu/mplab/398/). \n",
    "\n",
    "Your submission will consist of two Jupyter notebooks, one for the basic component and another one for advanced component. Please **name each notebook**:\n",
    "\n",
    "* CBU5201_miniproject_basic.ipynb\n",
    "* CBU5201_miniproject_advanced.ipynb\n",
    "\n",
    "then **zip and submit them toghether**.\n",
    "\n",
    "Each uploaded notebook should include: \n",
    "\n",
    "*   **Text cells**, describing concisely each step and results.\n",
    "*   **Code cells**, implementing each step.\n",
    "*   **Output cells**, i.e. the output from each code cell.\n",
    "\n",
    "and **should have the structure** indicated below. Notebooks might not be run, please make sure that the output cells are saved.\n",
    "\n",
    "How will we evaluate your submission?\n",
    "\n",
    "*   Conciseness in your writing (10%).\n",
    "*   Correctness in your methodology (30%).\n",
    "*   Correctness in your analysis and conclusions (30%).\n",
    "*   Completeness (10%).\n",
    "*   Originality (10%).\n",
    "*   Efforts to try something new (10%).\n",
    "\n",
    "Suggestion: Why don't you use **GitHub** to manage your project? GitHub can be used as a presentation card that showcases what you have done and gives evidence of your data science skills, knowledge and experience. \n",
    "\n",
    "Each notebook should be structured into the following 9 sections:\n"
   ],
   "metadata": {
    "id": "91MsGMTna_P9"
   }
  },
  {
   "cell_type": "markdown",
   "source": [
    "# 1 Author\n",
    "\n",
    "**Student Name**:  \n",
    "**Student ID**:  \n",
    "\n"
   ],
   "metadata": {
    "id": "ZaGn4ICrfqXZ"
   }
  },
  {
   "cell_type": "markdown",
   "source": [
    "# 2 Problem formulation\n",
    "\n",
    "Describe the machine learning problem that you want to solve and explain what's interesting about it."
   ],
   "metadata": {
    "id": "o38VQkcdKd6k"
   }
  },
  {
   "cell_type": "markdown",
   "source": [
    "# 3 Machine Learning pipeline\n",
    "\n",
    "Describe your ML pipeline. Clearly identify its input and output, any intermediate stages (for instance, transformation -> models), and intermediate data moving from one stage to the next. It's up to you to decide which stages to include in your pipeline. "
   ],
   "metadata": {
    "id": "N3BwrtEdLDit"
   }
  },
  {
   "cell_type": "markdown",
   "source": [
    "# 4 Transformation stage\n",
    "\n",
    "Describe any transformations, such as feature extraction. Identify input and output. Explain why you have chosen this transformation stage."
   ],
   "metadata": {
    "id": "j1nDXnzYLLH6"
   }
  },
  {
   "cell_type": "markdown",
   "source": [
    "# 5 Modelling\n",
    "\n",
    "Describe the ML model(s) that you will build. Explain why you have chosen them."
   ],
   "metadata": {
    "id": "0F5_kI95LuZ2"
   }
  },
  {
   "cell_type": "markdown",
   "source": [
    "# 6 Methodology\n",
    "\n",
    "Describe how you will train and validate your models, how model performance is assesssed (i.e. accuracy, confusion matrix, etc)"
   ],
   "metadata": {
    "id": "bPTSuaB9L2jU"
   }
  },
  {
   "cell_type": "markdown",
   "source": [
    "# 7 Dataset\n",
    "\n",
    "Describe the dataset that you will use to create your models and validate them. If you need to preprocess it, do it here. Include visualisations too. You can visualise raw data samples or extracted features."
   ],
   "metadata": {
    "id": "HZQPxztuL9AW"
   }
  },
  {
   "cell_type": "markdown",
   "source": [
    "# 8 Results\n",
    "\n",
    "Carry out your experiments here, explain your results."
   ],
   "metadata": {
    "id": "2qf7GN1aeXJI"
   }
  },
  {
   "cell_type": "markdown",
   "source": [
    "# 9 Conclusions\n",
    "\n",
    "Your conclusions, improvements, etc should go here"
   ],
   "metadata": {
    "id": "fSrJCR_cekPO",
    "is_executing": true
   },
   "outputs": [],
   "execution_count": null
  },
  {
   "cell_type": "code",
   "execution_count": null,
   "outputs": [],
   "source": [],
   "metadata": {
    "collapsed": false,
    "is_executing": true
   }
  },
  {
   "cell_type": "code",
   "execution_count": null,
   "outputs": [],
   "source": [],
   "metadata": {
    "collapsed": false
   }
  }
 ]
}
